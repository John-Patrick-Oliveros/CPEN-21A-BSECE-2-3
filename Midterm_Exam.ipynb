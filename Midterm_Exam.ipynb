{
  "nbformat": 4,
  "nbformat_minor": 0,
  "metadata": {
    "colab": {
      "name": "Midterm Exam.ipynb",
      "provenance": [],
      "collapsed_sections": [],
      "authorship_tag": "ABX9TyPPJZNxXGs08hUIReMbSVVP",
      "include_colab_link": true
    },
    "kernelspec": {
      "name": "python3",
      "display_name": "Python 3"
    },
    "language_info": {
      "name": "python"
    }
  },
  "cells": [
    {
      "cell_type": "markdown",
      "metadata": {
        "id": "view-in-github",
        "colab_type": "text"
      },
      "source": [
        "<a href=\"https://colab.research.google.com/github/John-Patrick-Oliveros/CPEN-21A-BSECE-2-3/blob/main/Midterm_Exam.ipynb\" target=\"_parent\"><img src=\"https://colab.research.google.com/assets/colab-badge.svg\" alt=\"Open In Colab\"/></a>"
      ]
    },
    {
      "cell_type": "markdown",
      "metadata": {
        "id": "6VX9LbeS4ZPr"
      },
      "source": [
        "## **Problem Statement 1**"
      ]
    },
    {
      "cell_type": "code",
      "metadata": {
        "colab": {
          "base_uri": "https://localhost:8080/"
        },
        "id": "scEockfNDgfB",
        "outputId": "671fb385-4673-4419-89b9-90779739701b"
      },
      "source": [
        "print(\"Full Name: \" + \"John Patrick Ebio Oliveros\")\n",
        "print(\"Student Number: \" + \"202012983\")\n",
        "print(\"Age: \" + \"19\")\n",
        "print(\"Birthday: \" + \"March 2, 2002\")\n",
        "print(\"Address: \" + \"B58 L15, Easter Avenue, Holiday Homes Subdivision, Brgy. Biclatan, General Trias, Cavite\")\n",
        "print(\"Course: \" + \"Bachelor of Science in Electronics and Communications Engineering (ECE)\")\n",
        "print(\"Last Sem GWA: \" + \"1.33\")"
      ],
      "execution_count": 4,
      "outputs": [
        {
          "output_type": "stream",
          "name": "stdout",
          "text": [
            "Full Name: John Patrick Ebio Oliveros\n",
            "Student Number: 202012983\n",
            "Age: 19\n",
            "Birthday: March 2, 2002\n",
            "Address: B58 L15, Easter Avenue, Holiday Homes Subdivision, Brgy. Biclatan, General Trias, Cavite\n",
            "Course: Bachelor of Science in Electronics and Communications Engineering (ECE)\n",
            "Last Sem GWA: 1.33\n"
          ]
        }
      ]
    },
    {
      "cell_type": "markdown",
      "metadata": {
        "id": "NgmMlA434oGG"
      },
      "source": [
        "## **Problem Statement 2**"
      ]
    },
    {
      "cell_type": "code",
      "metadata": {
        "colab": {
          "base_uri": "https://localhost:8080/"
        },
        "id": "oDegWPV7VYM8",
        "outputId": "55ed138a-7b9b-4eb6-b94d-e68afa815226"
      },
      "source": [
        "n = 4\n",
        "answ = \"Y\"\n",
        "\n",
        "print(2<n and n<6)\n",
        "print(2<n or n==6)\n",
        "print(not 2<n or n==6)\n",
        "print(not n<6)\n",
        "print(answ==\"Y\" or asnw==\"y\")\n",
        "print(answ==\"Y\" and answ==\"y\")\n",
        "print(not answ==\"y\")\n",
        "print((2<n and n==7+1) or answ==\"No\")\n",
        "print((n==2 and n==7) or answ==\"Y\")\n",
        "print(n==2 and (n==7 or answ==\"Y\"))"
      ],
      "execution_count": 5,
      "outputs": [
        {
          "output_type": "stream",
          "name": "stdout",
          "text": [
            "True\n",
            "True\n",
            "False\n",
            "False\n",
            "True\n",
            "False\n",
            "True\n",
            "False\n",
            "True\n",
            "False\n"
          ]
        }
      ]
    },
    {
      "cell_type": "markdown",
      "metadata": {
        "id": "g-CnzyCW4sxF"
      },
      "source": [
        "## **Problem Statement 3**"
      ]
    },
    {
      "cell_type": "code",
      "metadata": {
        "colab": {
          "base_uri": "https://localhost:8080/"
        },
        "id": "phEdeNxBMwdZ",
        "outputId": "3d6bb34b-c0db-4aef-e714-bc2632e5dc77"
      },
      "source": [
        "x=2\n",
        "y=-3\n",
        "w=7\n",
        "z=-10\n",
        "\n",
        "print(x/y)\n",
        "print(w/y/x)\n",
        "print(z/y%x)\n",
        "print(x%-y*w)\n",
        "print(x%y)\n",
        "print(z%w-y/x*5+5)\n",
        "print(9-x%(2+y))\n",
        "print(z//w)\n",
        "print((2+y)**2)\n",
        "print(w/x*2)"
      ],
      "execution_count": 6,
      "outputs": [
        {
          "output_type": "stream",
          "name": "stdout",
          "text": [
            "-0.6666666666666666\n",
            "-1.1666666666666667\n",
            "1.3333333333333335\n",
            "14\n",
            "-1\n",
            "16.5\n",
            "9\n",
            "-2\n",
            "1\n",
            "7.0\n"
          ]
        }
      ]
    }
  ]
}