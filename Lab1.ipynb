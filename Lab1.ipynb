{
  "nbformat": 4,
  "nbformat_minor": 0,
  "metadata": {
    "colab": {
      "name": " Lab1.ipynb",
      "provenance": [],
      "authorship_tag": "ABX9TyN7SOwWjWNnhWLWoDkd36lT",
      "include_colab_link": true
    },
    "kernelspec": {
      "name": "python3",
      "display_name": "Python 3"
    },
    "language_info": {
      "name": "python"
    }
  },
  "cells": [
    {
      "cell_type": "markdown",
      "metadata": {
        "id": "view-in-github",
        "colab_type": "text"
      },
      "source": [
        "<a href=\"https://colab.research.google.com/github/John-Patrick-Oliveros/CPEN-21A-BSECE-2-3/blob/main/Lab1.ipynb\" target=\"_parent\"><img src=\"https://colab.research.google.com/assets/colab-badge.svg\" alt=\"Open In Colab\"/></a>"
      ]
    },
    {
      "cell_type": "markdown",
      "metadata": {
        "id": "bOMkV6tghna_"
      },
      "source": [
        "## ***Week 8 Assessment***"
      ]
    },
    {
      "cell_type": "code",
      "metadata": {
        "colab": {
          "base_uri": "https://localhost:8080/"
        },
        "id": "N9cbhOE-oQAI",
        "outputId": "c31f850c-52fc-42db-cb28-b49c3ccb2a81"
      },
      "source": [
        "#Welcome Title\n",
        "print(\"Welcome to Python Programming\")\n",
        "print()\n"
      ],
      "execution_count": 21,
      "outputs": [
        {
          "output_type": "stream",
          "name": "stdout",
          "text": [
            "Welcome to Python Programming\n",
            "\n"
          ]
        }
      ]
    },
    {
      "cell_type": "code",
      "metadata": {
        "colab": {
          "base_uri": "https://localhost:8080/"
        },
        "id": "1_L552qog9Lr",
        "outputId": "1685700c-8f5d-4aed-fb10-4861fc1ad0e6"
      },
      "source": [
        "#Input\n",
        "name = \"John Patrick E. Oliveros\"\n",
        "address = \"B58 L15, Easter Ave., Holiday Homes Subd., Brgy. Biclatan, City of General Trias, Cavite\"\n",
        "age = \"19 years old\"\n",
        "\n",
        "#Output\n",
        "print()\n",
        "print(\"Name: \" + name)\n",
        "print(\"Address: \" + address)\n",
        "print(\"Age: \" + age)"
      ],
      "execution_count": 20,
      "outputs": [
        {
          "output_type": "stream",
          "name": "stdout",
          "text": [
            "\n",
            "Name: John Patrick E. Oliveros\n",
            "Address: B58 L15, Easter Ave., Holiday Homes Subd., Brgy. Biclatan, City of General Trias, Cavite\n",
            "Age: 19 years old\n"
          ]
        }
      ]
    }
  ]
}