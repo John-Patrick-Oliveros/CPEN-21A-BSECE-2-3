{
  "nbformat": 4,
  "nbformat_minor": 0,
  "metadata": {
    "colab": {
      "name": "Control Structure.ipynb",
      "provenance": [],
      "collapsed_sections": [],
      "authorship_tag": "ABX9TyOpddc8qnp8A8LcYL5XTOuO",
      "include_colab_link": true
    },
    "kernelspec": {
      "name": "python3",
      "display_name": "Python 3"
    },
    "language_info": {
      "name": "python"
    }
  },
  "cells": [
    {
      "cell_type": "markdown",
      "metadata": {
        "id": "view-in-github",
        "colab_type": "text"
      },
      "source": [
        "<a href=\"https://colab.research.google.com/github/John-Patrick-Oliveros/CPEN-21A-BSECE-2-3/blob/main/Control_Structure.ipynb\" target=\"_parent\"><img src=\"https://colab.research.google.com/assets/colab-badge.svg\" alt=\"Open In Colab\"/></a>"
      ]
    },
    {
      "cell_type": "markdown",
      "metadata": {
        "id": "cQfK-gHZyZyl"
      },
      "source": [
        "##If Statement"
      ]
    },
    {
      "cell_type": "code",
      "metadata": {
        "colab": {
          "base_uri": "https://localhost:8080/"
        },
        "id": "uKKg7v7NyR0t",
        "outputId": "220e74a0-a681-4154-9c87-97d90e4ed6d3"
      },
      "source": [
        "a = 12\n",
        "b = 100\n",
        "if a < b:\n",
        "  print(\"a is less than b\")"
      ],
      "execution_count": 6,
      "outputs": [
        {
          "output_type": "stream",
          "name": "stdout",
          "text": [
            "a is less than b\n"
          ]
        }
      ]
    },
    {
      "cell_type": "markdown",
      "metadata": {
        "id": "8esjefWUzYcd"
      },
      "source": [
        "## Elif Statement"
      ]
    },
    {
      "cell_type": "code",
      "metadata": {
        "colab": {
          "base_uri": "https://localhost:8080/"
        },
        "id": "Epn8D134zamz",
        "outputId": "ee9f7831-0693-4f2a-befb-352a6d83d63f"
      },
      "source": [
        "a = 30\n",
        "b = 15\n",
        "if a < b:\n",
        "  print(\"a is less than b\")\n",
        "elif a > b:\n",
        "  print(\"a is greater than b\")"
      ],
      "execution_count": 7,
      "outputs": [
        {
          "output_type": "stream",
          "name": "stdout",
          "text": [
            "a is greater than b\n"
          ]
        }
      ]
    },
    {
      "cell_type": "markdown",
      "metadata": {
        "id": "qztKN-N60KEn"
      },
      "source": [
        "##Else Statement"
      ]
    },
    {
      "cell_type": "code",
      "metadata": {
        "colab": {
          "base_uri": "https://localhost:8080/"
        },
        "id": "65yEpni90Mi2",
        "outputId": "a8920a8b-3637-4550-fada-1bbf991a2143"
      },
      "source": [
        "a = 30\n",
        "b = 30\n",
        "if a < b:\n",
        "  print(\"a is less than b\")\n",
        "elif a > b:\n",
        "  print(\"a is greater than b\")\n",
        "else:\n",
        "  print(\"a is equal to b\")"
      ],
      "execution_count": 9,
      "outputs": [
        {
          "output_type": "stream",
          "name": "stdout",
          "text": [
            "a is equal to b\n"
          ]
        }
      ]
    },
    {
      "cell_type": "markdown",
      "metadata": {
        "id": "SbK_IaZZ00DJ"
      },
      "source": [
        "##Short Hand If Statement"
      ]
    },
    {
      "cell_type": "code",
      "metadata": {
        "id": "n_KyBaxY03rp"
      },
      "source": [
        "a = 16\n",
        "b = 22\n",
        "if a > b: print(\"a is greater than b\")"
      ],
      "execution_count": 16,
      "outputs": []
    },
    {
      "cell_type": "markdown",
      "metadata": {
        "id": "twQt84HV1MXA"
      },
      "source": [
        "##Short Hand If.. Else Statement"
      ]
    },
    {
      "cell_type": "code",
      "metadata": {
        "colab": {
          "base_uri": "https://localhost:8080/"
        },
        "id": "xqNAl-9-1Oj-",
        "outputId": "49f10746-d28e-4e42-f377-16511fbaf044"
      },
      "source": [
        "print(\"a is greater than b\") if a > b else print(\"b is greater than a\")"
      ],
      "execution_count": 18,
      "outputs": [
        {
          "output_type": "stream",
          "name": "stdout",
          "text": [
            "b is greater than a\n"
          ]
        }
      ]
    },
    {
      "cell_type": "markdown",
      "metadata": {
        "id": "TaC7AxS42JgD"
      },
      "source": [
        "And Logic Condition"
      ]
    },
    {
      "cell_type": "code",
      "metadata": {
        "colab": {
          "base_uri": "https://localhost:8080/"
        },
        "id": "dj58525u2Klb",
        "outputId": "325278b3-b77d-4421-f16d-bbb465953147"
      },
      "source": [
        "a = 200\n",
        "b = 33\n",
        "c = 500\n",
        "if a > b and c > a:\n",
        "  print(\"Both conditions are True\")\n",
        "else:\n",
        "  print(\"Either of the two condition is True\")"
      ],
      "execution_count": 20,
      "outputs": [
        {
          "output_type": "stream",
          "name": "stdout",
          "text": [
            "Both conditions are True\n"
          ]
        }
      ]
    },
    {
      "cell_type": "markdown",
      "metadata": {
        "id": "KsCjmFqf3EIa"
      },
      "source": [
        "Or Logic Condition"
      ]
    },
    {
      "cell_type": "code",
      "metadata": {
        "colab": {
          "base_uri": "https://localhost:8080/"
        },
        "id": "SPMfGdPv3EeI",
        "outputId": "cb2ee56b-589b-4e8b-f871-5157977ca444"
      },
      "source": [
        "if a < b or c > a:\n",
        "  print(\"True\")\n",
        "else:\n",
        "  print(\"False\")"
      ],
      "execution_count": 21,
      "outputs": [
        {
          "output_type": "stream",
          "name": "stdout",
          "text": [
            "True\n"
          ]
        }
      ]
    },
    {
      "cell_type": "markdown",
      "metadata": {
        "id": "UOfm8cnc3qOk"
      },
      "source": [
        "Nested If"
      ]
    },
    {
      "cell_type": "code",
      "metadata": {
        "colab": {
          "base_uri": "https://localhost:8080/"
        },
        "id": "r6xqpolM3qpc",
        "outputId": "56803c15-cc31-4cb0-c554-1d39092615eb"
      },
      "source": [
        "x = 11\n",
        "if x > 10:\n",
        "  print(\"Above 10\")\n",
        "  if x > 20:\n",
        "    print(\"and above 20!\")\n",
        "    if x > 30:\n",
        "      print(\"but above 30\")\n",
        "    else:\n",
        "      print(\"not above 30\")\n",
        "  else:\n",
        "    print(\"not above 20\")\n",
        "else:\n",
        "  print(\"below 10\")\n"
      ],
      "execution_count": 32,
      "outputs": [
        {
          "output_type": "stream",
          "name": "stdout",
          "text": [
            "Above 10\n",
            "not above 20\n"
          ]
        }
      ]
    },
    {
      "cell_type": "markdown",
      "metadata": {
        "id": "-6GHYAeF3q_c"
      },
      "source": [
        "Example 1"
      ]
    },
    {
      "cell_type": "code",
      "metadata": {
        "colab": {
          "base_uri": "https://localhost:8080/"
        },
        "id": "9gB97F3w3rSc",
        "outputId": "375c35c4-5e1c-4a2f-b0e5-01a5e46db213"
      },
      "source": [
        "age = int(input(\"How old are you: \"))\n",
        "if age >= 18:\n",
        "  print(\"Congrats! You are eligible for voting.\")\n",
        "elif age < 18:\n",
        "  print(\"Sorry, you are not yet eligible for voting.\")\n"
      ],
      "execution_count": 41,
      "outputs": [
        {
          "output_type": "stream",
          "name": "stdout",
          "text": [
            "How old are you: 18\n",
            "Congrats! You are eligible for voting.\n"
          ]
        }
      ]
    },
    {
      "cell_type": "markdown",
      "metadata": {
        "id": "_H-cVxB88Sbk"
      },
      "source": [
        "Example 2"
      ]
    },
    {
      "cell_type": "code",
      "metadata": {
        "id": "bH2krpdM8V0s"
      },
      "source": [
        "num = int(input(\"Enter a number: \"))\n",
        "if num > 0:\n",
        "  print(\"The number is positive.\")\n",
        "elif num == 0:\n",
        "  print(\"The number is zero.\")\n",
        "else:\n",
        "  print(\"The number is negative.\")"
      ],
      "execution_count": null,
      "outputs": []
    },
    {
      "cell_type": "markdown",
      "metadata": {
        "id": "nlq1YF3y8cv-"
      },
      "source": [
        "Example 3"
      ]
    },
    {
      "cell_type": "code",
      "metadata": {
        "id": "sdpDNsq-8eXu"
      },
      "source": [
        "# Write a python program to determine if the grades are \n",
        "# grade >= 75 (Passed)\n",
        "# grade == 74 (Remedial)\n",
        "# grade < 74 (Failed)\n",
        "\n",
        "grade = float(input(\"Enter grade:\"))\n",
        "if grade >= 75:\n",
        "  print(\"You have passed.\")\n",
        "elif grade > 74 and grade < 75:\n",
        "  print(\"You may take remdial.\")\n",
        "else:\n",
        "  print(\"You have failed.\")\n"
      ],
      "execution_count": null,
      "outputs": []
    }
  ]
}