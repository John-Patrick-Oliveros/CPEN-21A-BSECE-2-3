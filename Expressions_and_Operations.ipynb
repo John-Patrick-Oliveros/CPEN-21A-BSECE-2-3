{
  "nbformat": 4,
  "nbformat_minor": 0,
  "metadata": {
    "colab": {
      "name": "Expressions_and_Operations.ipynb",
      "provenance": [],
      "authorship_tag": "ABX9TyPHKcOA8TjrJiPpnxQ3VBOE",
      "include_colab_link": true
    },
    "kernelspec": {
      "name": "python3",
      "display_name": "Python 3"
    },
    "language_info": {
      "name": "python"
    }
  },
  "cells": [
    {
      "cell_type": "markdown",
      "metadata": {
        "id": "view-in-github",
        "colab_type": "text"
      },
      "source": [
        "<a href=\"https://colab.research.google.com/github/John-Patrick-Oliveros/CPEN-21A-BSECE-2-3/blob/main/Expressions_and_Operations.ipynb\" target=\"_parent\"><img src=\"https://colab.research.google.com/assets/colab-badge.svg\" alt=\"Open In Colab\"/></a>"
      ]
    },
    {
      "cell_type": "markdown",
      "metadata": {
        "id": "niXjFL064moA"
      },
      "source": [
        "###Boolean Operators"
      ]
    },
    {
      "cell_type": "code",
      "metadata": {
        "colab": {
          "base_uri": "https://localhost:8080/"
        },
        "id": "m8oqzAM-4aht",
        "outputId": "77390f68-435a-4b1f-84c9-c9ca194c8b6f"
      },
      "source": [
        "a = 1\n",
        "b = 2\n",
        "print(a>b)\n",
        "print(a<b)\n",
        "print(a==a)\n",
        "print(a!=b)"
      ],
      "execution_count": 1,
      "outputs": [
        {
          "output_type": "stream",
          "name": "stdout",
          "text": [
            "False\n",
            "True\n",
            "True\n",
            "True\n"
          ]
        }
      ]
    },
    {
      "cell_type": "markdown",
      "metadata": {
        "id": "QpbZr5pu63eG"
      },
      "source": [
        "###bool() funcition"
      ]
    },
    {
      "cell_type": "code",
      "metadata": {
        "colab": {
          "base_uri": "https://localhost:8080/"
        },
        "id": "umAuP_0x66ir",
        "outputId": "99771abd-a848-4285-843f-fe358ca03fa8"
      },
      "source": [
        "print(bool(15))\n",
        "print(bool(False))\n",
        "print(bool(1))\n",
        "\n",
        "print(bool(False))\n",
        "print(bool(0))\n",
        "print(bool(None))\n",
        "print(bool([]))"
      ],
      "execution_count": 2,
      "outputs": [
        {
          "output_type": "stream",
          "name": "stdout",
          "text": [
            "True\n",
            "False\n",
            "True\n",
            "False\n",
            "False\n",
            "False\n",
            "False\n"
          ]
        }
      ]
    },
    {
      "cell_type": "markdown",
      "metadata": {
        "id": "kb9S-oBg7D5n"
      },
      "source": [
        "###Functions to Return a Boolean"
      ]
    },
    {
      "cell_type": "code",
      "metadata": {
        "colab": {
          "base_uri": "https://localhost:8080/"
        },
        "id": "RXv1zPdn7HbP",
        "outputId": "230500a8-49a8-4bbf-eace-69c6e29b6502"
      },
      "source": [
        "def myFunction(): return True\n",
        "\n",
        "print(myFunction())"
      ],
      "execution_count": 3,
      "outputs": [
        {
          "output_type": "stream",
          "name": "stdout",
          "text": [
            "True\n"
          ]
        }
      ]
    },
    {
      "cell_type": "code",
      "metadata": {
        "colab": {
          "base_uri": "https://localhost:8080/"
        },
        "id": "lDW91x_37I_f",
        "outputId": "e1e59d07-9388-4810-ec56-945957a5b3ba"
      },
      "source": [
        "def myFunction(): return False\n",
        "\n",
        "if myFunction():\n",
        "  print(\"True\")\n",
        "else:\n",
        "  print(False)"
      ],
      "execution_count": 4,
      "outputs": [
        {
          "output_type": "stream",
          "name": "stdout",
          "text": [
            "False\n"
          ]
        }
      ]
    },
    {
      "cell_type": "markdown",
      "metadata": {
        "id": "_5bXNS1m7MKg"
      },
      "source": [
        "###Relational Operator"
      ]
    },
    {
      "cell_type": "code",
      "metadata": {
        "colab": {
          "base_uri": "https://localhost:8080/"
        },
        "id": "HnDZA-Yp7PNb",
        "outputId": "03b8d8eb-4b4d-4ddd-b0a5-90ab11eea6a0"
      },
      "source": [
        "print(10>9)\n",
        "print(10>9)\n",
        "print(10==9)"
      ],
      "execution_count": 5,
      "outputs": [
        {
          "output_type": "stream",
          "name": "stdout",
          "text": [
            "True\n",
            "True\n",
            "False\n"
          ]
        }
      ]
    },
    {
      "cell_type": "markdown",
      "metadata": {
        "id": "EOGRkanH7QqG"
      },
      "source": [
        "###Arithmetic Operator"
      ]
    },
    {
      "cell_type": "code",
      "metadata": {
        "colab": {
          "base_uri": "https://localhost:8080/"
        },
        "id": "g_ehOzdD7THi",
        "outputId": "4785a1cf-765a-4a8a-8eb5-b04f86433186"
      },
      "source": [
        "print(10+5)\n",
        "print(10-5)\n",
        "print(10*5)\n",
        "print(10/5)\n",
        "print(10%5) #modulo division that shows the remainder after remainder\n",
        "print(10//3) #floor division\n",
        "print(10**2) #concatenation"
      ],
      "execution_count": 6,
      "outputs": [
        {
          "output_type": "stream",
          "name": "stdout",
          "text": [
            "15\n",
            "5\n",
            "50\n",
            "2.0\n",
            "0\n",
            "3\n",
            "100\n"
          ]
        }
      ]
    },
    {
      "cell_type": "markdown",
      "metadata": {
        "id": "rSD5iBGQ57xm"
      },
      "source": [
        "###Bitwise Operators\n"
      ]
    },
    {
      "cell_type": "code",
      "metadata": {
        "colab": {
          "base_uri": "https://localhost:8080/"
        },
        "id": "5TM7W9sy5_gO",
        "outputId": "e2dca5af-e92b-4eb9-c6a5-dd5c0102eecd"
      },
      "source": [
        "a=60  #0011 1100\n",
        "b=13  #0000 1101\n",
        "\n",
        "print(a&b)\n",
        "print(a|b)\n",
        "print(a^b)\n",
        "\n",
        "print(a<<1) #0011 1100  0111 1000-120\n",
        "print(a>>1) #0011 1100      carry bit-0"
      ],
      "execution_count": 7,
      "outputs": [
        {
          "output_type": "stream",
          "name": "stdout",
          "text": [
            "12\n",
            "61\n",
            "49\n",
            "120\n",
            "30\n"
          ]
        }
      ]
    },
    {
      "cell_type": "markdown",
      "metadata": {
        "id": "Moa41YC27ZIs"
      },
      "source": [
        "###Assignment Operators"
      ]
    },
    {
      "cell_type": "code",
      "metadata": {
        "colab": {
          "base_uri": "https://localhost:8080/"
        },
        "id": "w45M0O757bWA",
        "outputId": "3991f6fb-8987-4018-c1a1-573977c6e69e"
      },
      "source": [
        "a+=3 #Same As a=a+3, a=60+3\n",
        "print(a)"
      ],
      "execution_count": 8,
      "outputs": [
        {
          "output_type": "stream",
          "name": "stdout",
          "text": [
            "63\n"
          ]
        }
      ]
    },
    {
      "cell_type": "markdown",
      "metadata": {
        "id": "vj_Tn8Yk7dJH"
      },
      "source": [
        "###Logical Operator"
      ]
    },
    {
      "cell_type": "code",
      "metadata": {
        "colab": {
          "base_uri": "https://localhost:8080/"
        },
        "id": "loNmQGWn7f2c",
        "outputId": "d2dc4ab3-2428-4dd1-f083-710011903ad8"
      },
      "source": [
        "print(a and b)\n",
        "print(a or b)\n",
        "print(not(a or b))\n",
        "\n",
        "a>b and b<a"
      ],
      "execution_count": 9,
      "outputs": [
        {
          "output_type": "stream",
          "name": "stdout",
          "text": [
            "13\n",
            "63\n",
            "False\n"
          ]
        },
        {
          "output_type": "execute_result",
          "data": {
            "text/plain": [
              "True"
            ]
          },
          "metadata": {},
          "execution_count": 9
        }
      ]
    },
    {
      "cell_type": "code",
      "metadata": {
        "colab": {
          "base_uri": "https://localhost:8080/"
        },
        "id": "_d5MZ5897jd5",
        "outputId": "006e4f5e-21a8-44f4-a62f-8f40ba54d834"
      },
      "source": [
        "a=60\n",
        "b=13\n",
        "print((a>b) and (b<a)) \n",
        "print(a==a or b==b)\n",
        "print(not(a==a or b==b))"
      ],
      "execution_count": 10,
      "outputs": [
        {
          "output_type": "stream",
          "name": "stdout",
          "text": [
            "True\n",
            "True\n",
            "False\n"
          ]
        }
      ]
    },
    {
      "cell_type": "markdown",
      "metadata": {
        "id": "Exb86Ddr7leY"
      },
      "source": [
        "###Identity Operators"
      ]
    },
    {
      "cell_type": "code",
      "metadata": {
        "colab": {
          "base_uri": "https://localhost:8080/"
        },
        "id": "PNyKdoBg7nl_",
        "outputId": "84f23f82-6e95-4e55-acb5-878b13b04410"
      },
      "source": [
        "print (a is b)\n",
        "print (a is not b)"
      ],
      "execution_count": 11,
      "outputs": [
        {
          "output_type": "stream",
          "name": "stdout",
          "text": [
            "False\n",
            "True\n"
          ]
        }
      ]
    }
  ]
}