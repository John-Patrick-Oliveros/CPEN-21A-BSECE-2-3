{
  "nbformat": 4,
  "nbformat_minor": 0,
  "metadata": {
    "colab": {
      "name": "Final Exam.ipynb",
      "provenance": [],
      "collapsed_sections": [],
      "authorship_tag": "ABX9TyME2IbKuT+gSvnH75ZBmGcI",
      "include_colab_link": true
    },
    "kernelspec": {
      "name": "python3",
      "display_name": "Python 3"
    },
    "language_info": {
      "name": "python"
    }
  },
  "cells": [
    {
      "cell_type": "markdown",
      "metadata": {
        "id": "view-in-github",
        "colab_type": "text"
      },
      "source": [
        "<a href=\"https://colab.research.google.com/github/John-Patrick-Oliveros/CPEN-21A-BSECE-2-3/blob/main/Final_Exam.ipynb\" target=\"_parent\"><img src=\"https://colab.research.google.com/assets/colab-badge.svg\" alt=\"Open In Colab\"/></a>"
      ]
    },
    {
      "cell_type": "markdown",
      "source": [
        "---\n",
        "\n",
        "#**Problem Statement 1**\n",
        "\n",
        "---"
      ],
      "metadata": {
        "id": "2_uPdjeJx3r7"
      }
    },
    {
      "cell_type": "markdown",
      "source": [
        "••• Create a Python program that will produce an output of sum of 10 numbers less than 5 using **FOR LOOP** statement."
      ],
      "metadata": {
        "id": "jaXZuh9xheC3"
      }
    },
    {
      "cell_type": "markdown",
      "source": [
        "---\n",
        "\n",
        "*- If Numbers Are **Set** -* \n",
        "\n",
        "---"
      ],
      "metadata": {
        "id": "v7G5955-iEcm"
      }
    },
    {
      "cell_type": "code",
      "source": [
        "mylist = [-5,-4,-3,-2,-1,0,1,2,3,4]\n",
        "total = 0\n",
        "\n",
        "for i in mylist:\n",
        "  i+=1\n",
        "  total = total + i\n",
        "\n",
        "total = sum(mylist)\n",
        "\n",
        "print(mylist, \"=\", total)"
      ],
      "metadata": {
        "colab": {
          "base_uri": "https://localhost:8080/"
        },
        "id": "n8Ti3MoYgIhQ",
        "outputId": "d0041932-fb1a-4450-d14c-f519583f8f97"
      },
      "execution_count": null,
      "outputs": [
        {
          "output_type": "stream",
          "name": "stdout",
          "text": [
            "[-5, -4, -3, -2, -1, 0, 1, 2, 3, 4] = -5\n"
          ]
        }
      ]
    },
    {
      "cell_type": "markdown",
      "source": [
        "---\n",
        "\n",
        "*- If Numbers Are **Randomized** -* \n",
        "\n",
        "---"
      ],
      "metadata": {
        "id": "9Dmd2CQmoht7"
      }
    },
    {
      "cell_type": "code",
      "source": [
        "import random                           # Random Module - allows random number generation\n",
        "\n",
        "mylist = []                             # Stores randomly generated numbers\n",
        "total = 0                               # Initial variable that enables list summation\n",
        "\n",
        "for i in range(0,10):                   # Limits the number generation to ten only\n",
        "    x = random.randint(0,4)             # Generates random numbers less than five\n",
        "    mylist.append(x)                    # Adds and stores accepted user inputs in the list\n",
        "    total = total + x                   # Summation of all the numbers stored in the list\n",
        "\n",
        "print(mylist)                           # Displays the list of ten numbers less than five and its summation\n",
        "\n",
        "print(\"Sum = \", total)                  # Displays the summation of the numbers in the list"
      ],
      "metadata": {
        "colab": {
          "base_uri": "https://localhost:8080/"
        },
        "id": "i9nyK7E_x3di",
        "outputId": "8e90ec0a-cf73-4a1f-8fad-c47ca8d95113"
      },
      "execution_count": null,
      "outputs": [
        {
          "output_type": "stream",
          "name": "stdout",
          "text": [
            "[2, 3, 4, 1, 1, 4, 0, 0, 3, 4]\n",
            "Sum =  22\n"
          ]
        }
      ]
    },
    {
      "cell_type": "markdown",
      "source": [
        "---\n",
        "\n",
        "*- If Numbers Are From **User Input** -*\n",
        "\n",
        "---\n",
        "\n",
        "\n",
        "\n",
        "\n"
      ],
      "metadata": {
        "id": "p4AcZwmSoxmu"
      }
    },
    {
      "cell_type": "code",
      "source": [
        "# This code only accepts integers and float and can tell if user entered invalid input (string) and lets the user try again rather than storing it wrongly.\n",
        "# It also displays ordinal numbers so that the user won't lose track of sequence.\n",
        "\n",
        "print(\"Enter ten numbers that is less than five\")                         # Prompts user to enter ten integers that is less than five\n",
        "print()\n",
        "\n",
        "n = [\"1st\",\"2nd\",\"3rd\",\"4th\",\"5th\",\"6th\",\"7th\",\"8th\",\"9th\",\"10th\"]        # Stores ordinal numbers to help user navigate as to what sequence they are currently inputting\n",
        "mylist = []                                                               # Stores accepted user input in a list\n",
        "total = 0                                                                 # Initial variable that enables list summation\n",
        "\n",
        "for i in range(100):\n",
        "  while len(mylist) != 10:                                                # Terminates the loop if the list \"mylist\" already contains 10 elements\n",
        "    try:\n",
        "      print(\"Your\", n[len(mylist)], \"number: \" )                          # Prompts user to input an integer and shows their current input sequence (1st input, 2nd input, etc.)\n",
        "      num = float(input(\"\"))                                              # Allows user to input an integer\n",
        "      if num >= 5:\n",
        "        print(\"Please enter a number less than five\")                     # Prompts user that their input is greater\n",
        "        print()\n",
        "        break       \n",
        "      mylist.append(num)                                                  # Stores the accepted input in a list\n",
        "      total = total + num                                                 # Allows change of ordinal numbers to show in display\n",
        "      if len(mylist) == 10:                                               # Checks if the list have 10 elements\n",
        "        break\n",
        "    except:\n",
        "      print(\"Invalid input! Try again.\")                                  # Prompts the user that they entered a string, not an integer\n",
        "      print()\n",
        "      break\n",
        "  if len(mylist) == 10:                                                   # Checks if the list have 10 elements\n",
        "    break\n",
        "\n",
        "print()\n",
        "total = sum(mylist)                                                       # Summates the list with accepted inputs and stores in a variable\n",
        "print(mylist, \"=\", total)                                                 # Displays the list with accepted inputs and its summation"
      ],
      "metadata": {
        "colab": {
          "base_uri": "https://localhost:8080/"
        },
        "id": "4JKaO9W34ADQ",
        "outputId": "8b7ddca7-a008-4dbd-867b-09e9f082b029"
      },
      "execution_count": null,
      "outputs": [
        {
          "output_type": "stream",
          "name": "stdout",
          "text": [
            "Enter ten numbers that is less than five\n",
            "\n",
            "Your 1st number: \n",
            "15\n",
            "Please enter a number less than five\n",
            "\n",
            "Your 1st number: \n",
            "2\n",
            "Your 2nd number: \n",
            "1.54\n",
            "Your 3rd number: \n",
            "ABCDEF\n",
            "Invalid input! Try again.\n",
            "\n",
            "Your 3rd number: \n",
            "1\n",
            "Your 4th number: \n",
            "2\n",
            "Your 5th number: \n",
            "2\n",
            "Your 6th number: \n",
            "3\n",
            "Your 7th number: \n",
            "4\n",
            "Your 8th number: \n",
            "0\n",
            "Your 9th number: \n",
            "-1\n",
            "Your 10th number: \n",
            "1\n",
            "\n",
            "[2.0, 1.54, 1.0, 2.0, 2.0, 3.0, 4.0, 0.0, -1.0, 1.0] = 15.54\n"
          ]
        }
      ]
    },
    {
      "cell_type": "markdown",
      "source": [
        "---\n",
        "\n",
        "#**Problem Statement 2**\n",
        "\n",
        "---\n",
        "\n"
      ],
      "metadata": {
        "id": "gf_YFuxSx0o7"
      }
    },
    {
      "cell_type": "markdown",
      "source": [
        "••• Create a Python program that will produce accept five numbers and determine the sum of first and last number among the five numbers entered using **WHILE LOOP**."
      ],
      "metadata": {
        "id": "PegbwFpnhoI5"
      }
    },
    {
      "cell_type": "markdown",
      "source": [
        "---\n",
        "\n",
        "*- If Numbers Are **Randomized** -*\n",
        "\n",
        "---"
      ],
      "metadata": {
        "id": "_oQA2BHt6tcF"
      }
    },
    {
      "cell_type": "code",
      "source": [
        "import random\n",
        "\n",
        "choice = int(input(\"Enter max range you want: \"))         # Allows user to enter/choose maximum range of numbers to be randomly generated\n",
        "\n",
        "mylist = []                                               # Stores accepted user input in a list\n",
        "\n",
        "while len(mylist) != 5:\n",
        "  for i in range(5):                                      # Terminates the loop if the list already contains five elements\n",
        "    num = random.randint(0,choice)                                                                   \n",
        "    mylist.append(num)                                    # Stores the accepted input in a list\n",
        "    if len(mylist) == 5:                                  # Checks if the list have 10 elements\n",
        "      break                                               # If so, it breaks out all the loops\n",
        "\n",
        "print(mylist)\n",
        "\n",
        "total = mylist[0] + mylist[4]                             # Stores in a variable where the first and last number in the list is added\n",
        "\n",
        "print(mylist[0], \"+\", mylist[4], \"=\", total)              # Displays the two numbers to be added and its summation"
      ],
      "metadata": {
        "id": "YVi5AK6V0DQ4",
        "colab": {
          "base_uri": "https://localhost:8080/"
        },
        "outputId": "a4fe195e-d38d-4038-b6f1-b57bc210e817"
      },
      "execution_count": null,
      "outputs": [
        {
          "output_type": "stream",
          "name": "stdout",
          "text": [
            "Enter max range you want: 800\n",
            "[228, 356, 451, 158, 169]\n",
            "228 + 169 = 397\n"
          ]
        }
      ]
    },
    {
      "cell_type": "markdown",
      "source": [
        "---\n",
        "\n",
        "*- If Numbers Are From **User Input** -*\n",
        "\n",
        "---"
      ],
      "metadata": {
        "id": "wxc8lVj261YI"
      }
    },
    {
      "cell_type": "code",
      "source": [
        "# This code only accepts integers and float and can tell if user entered invalid input (string) and lets the user try again rather than storing it wrongly.\n",
        "# It also displays ordinal numbers so that the user won't lose track of sequence.\n",
        "\n",
        "print(\"Enter five numbers\")\n",
        "print()\n",
        "\n",
        "n = [\"1st\",\"2nd\",\"3rd\",\"4th\",\"5th\"]                                    # List to change display to users input sequence\n",
        "mylist = []                                                            # Stores accepted user input in a list\n",
        "total = 0                                                              # Initial variable that enables list summation\n",
        "\n",
        "while len(mylist) != 5:\n",
        "  while True:\n",
        "    try:\n",
        "      print(\"Your\", n[len(mylist)], \"number: \" )                       # Prompts user to input an integer and shows their current input sequence (1st input, 2nd input, etc.)\n",
        "      num = int(input(\"\"))                                             # Allows user to input an integer\n",
        "      mylist.append(num)                                               # Stores the accepted input in a list\n",
        "      if len(mylist) == 5:                                             # Checks if the list have 10 elements\n",
        "        break                                                          # If so, it breaks out all the loops\n",
        "    except:\n",
        "      print(\"Invalid input! Please try again.\")\n",
        "      break\n",
        "  if len(mylist) == 5:                                                 # Checks if the list have 10 elements\n",
        "    break \n",
        "\n",
        "print()\n",
        "print(mylist)                                                          # Displays the list of all accepted inputs\n",
        "\n",
        "total = mylist[0] + mylist[4]                                          # Adds the first and last elements in the list and stores it in a variable\n",
        "\n",
        "print(mylist[0], \"+\", mylist[4], \"=\", total)                           # Displays the summation of the first and last number in the list"
      ],
      "metadata": {
        "colab": {
          "base_uri": "https://localhost:8080/"
        },
        "id": "nO45f1NaB7rM",
        "outputId": "82c0deb3-7450-45be-d07e-bb9f4e28fe91"
      },
      "execution_count": null,
      "outputs": [
        {
          "output_type": "stream",
          "name": "stdout",
          "text": [
            "Enter five numbers:\n",
            "Your 1st number: \n",
            "1\n",
            "Your 2nd number: \n",
            "2\n",
            "Your 3rd number: \n",
            "674\n",
            "Your 4th number: \n",
            "165\n",
            "Your 5th number: \n",
            "135\n",
            "\n",
            "[1, 2, 674, 165, 135]\n",
            "1 + 135 = 136\n"
          ]
        }
      ]
    },
    {
      "cell_type": "markdown",
      "source": [
        "---\n",
        "\n",
        "###Problem Statement 3\n",
        "\n",
        "---"
      ],
      "metadata": {
        "id": "gLZzwHOXxXzY"
      }
    },
    {
      "cell_type": "markdown",
      "source": [
        "••• Create a Python program to calculate student grades. It accepts a numerical grade as input and it will display the character grade as output based on the given scale: **(Use Nested-IF-Else statement)**"
      ],
      "metadata": {
        "id": "DRXmDFdwhxDV"
      }
    },
    {
      "cell_type": "code",
      "source": [
        "num_grade = float(input(\"Input your grade: \"))\n",
        "\n",
        "if num_grade >= 90:\n",
        "  print(\"Grade: A\")\n",
        "else:\n",
        "  if num_grade >= 80:\n",
        "    print(\"Grade: B\")\n",
        "  else:\n",
        "    if num_grade >= 70:\n",
        "      print(\"Grade: C\")\n",
        "    else:\n",
        "      if num_grade >= 60:\n",
        "        print(\"Grade: D\")\n",
        "      else:\n",
        "        print(\"Grade: F\")"
      ],
      "metadata": {
        "colab": {
          "base_uri": "https://localhost:8080/"
        },
        "id": "I2gw5znpr2xq",
        "outputId": "f2ab17bc-a809-4803-d4d5-84467d440c2b"
      },
      "execution_count": 21,
      "outputs": [
        {
          "output_type": "stream",
          "name": "stdout",
          "text": [
            "Input your grade: 95\n",
            "Grade: A\n"
          ]
        }
      ]
    }
  ]
}